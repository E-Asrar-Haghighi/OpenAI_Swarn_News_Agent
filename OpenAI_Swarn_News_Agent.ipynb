{
  "nbformat": 4,
  "nbformat_minor": 0,
  "metadata": {
    "colab": {
      "provenance": []
    },
    "kernelspec": {
      "name": "python3",
      "display_name": "Python 3"
    },
    "language_info": {
      "name": "python"
    }
  },
  "cells": [
    {
      "cell_type": "markdown",
      "source": [
        "# Setup"
      ],
      "metadata": {
        "id": "TVBwlqUES0rz"
      }
    },
    {
      "cell_type": "code",
      "execution_count": 1,
      "metadata": {
        "colab": {
          "base_uri": "https://localhost:8080/"
        },
        "id": "UFK_5jSqRT1y",
        "outputId": "42f4b6fe-cd4c-467b-f9a0-a5e42dc9b4e3"
      },
      "outputs": [
        {
          "output_type": "stream",
          "name": "stdout",
          "text": [
            "3.11.11 (main, Dec  4 2024, 08:55:07) [GCC 11.4.0]\n"
          ]
        }
      ],
      "source": [
        "# Check the Python version to ensure compatibility\n",
        "import sys\n",
        "print(sys.version)"
      ]
    },
    {
      "cell_type": "code",
      "source": [
        "# Install the 'swarm' library from GitHub and the 'requests' library for HTTP requests\n",
        "!pip install git+https://github.com/openai/swarm.git\n",
        "!pip install requests"
      ],
      "metadata": {
        "colab": {
          "base_uri": "https://localhost:8080/"
        },
        "collapsed": true,
        "id": "MFjl4Q7jS7ba",
        "outputId": "b427fc0c-f40a-4393-bd8d-65e626acc60b"
      },
      "execution_count": 2,
      "outputs": [
        {
          "output_type": "stream",
          "name": "stdout",
          "text": [
            "Collecting git+https://github.com/openai/swarm.git\n",
            "  Cloning https://github.com/openai/swarm.git to /tmp/pip-req-build-ewy8ack7\n",
            "  Running command git clone --filter=blob:none --quiet https://github.com/openai/swarm.git /tmp/pip-req-build-ewy8ack7\n",
            "  Resolved https://github.com/openai/swarm.git to commit 0c82d7d868bb8e2d380dfd2a319b5c3a1f4c0cb9\n",
            "  Installing build dependencies ... \u001b[?25l\u001b[?25hdone\n",
            "  Getting requirements to build wheel ... \u001b[?25l\u001b[?25hdone\n",
            "  Preparing metadata (pyproject.toml) ... \u001b[?25l\u001b[?25hdone\n",
            "Requirement already satisfied: numpy in /usr/local/lib/python3.11/dist-packages (from swarm==0.1.0) (1.26.4)\n",
            "Requirement already satisfied: openai>=1.33.0 in /usr/local/lib/python3.11/dist-packages (from swarm==0.1.0) (1.61.1)\n",
            "Requirement already satisfied: pytest in /usr/local/lib/python3.11/dist-packages (from swarm==0.1.0) (8.3.5)\n",
            "Requirement already satisfied: requests in /usr/local/lib/python3.11/dist-packages (from swarm==0.1.0) (2.32.3)\n",
            "Requirement already satisfied: tqdm in /usr/local/lib/python3.11/dist-packages (from swarm==0.1.0) (4.67.1)\n",
            "Requirement already satisfied: pre-commit in /usr/local/lib/python3.11/dist-packages (from swarm==0.1.0) (4.1.0)\n",
            "Requirement already satisfied: instructor in /usr/local/lib/python3.11/dist-packages (from swarm==0.1.0) (1.7.4)\n",
            "Requirement already satisfied: anyio<5,>=3.5.0 in /usr/local/lib/python3.11/dist-packages (from openai>=1.33.0->swarm==0.1.0) (3.7.1)\n",
            "Requirement already satisfied: distro<2,>=1.7.0 in /usr/local/lib/python3.11/dist-packages (from openai>=1.33.0->swarm==0.1.0) (1.9.0)\n",
            "Requirement already satisfied: httpx<1,>=0.23.0 in /usr/local/lib/python3.11/dist-packages (from openai>=1.33.0->swarm==0.1.0) (0.28.1)\n",
            "Requirement already satisfied: jiter<1,>=0.4.0 in /usr/local/lib/python3.11/dist-packages (from openai>=1.33.0->swarm==0.1.0) (0.8.2)\n",
            "Requirement already satisfied: pydantic<3,>=1.9.0 in /usr/local/lib/python3.11/dist-packages (from openai>=1.33.0->swarm==0.1.0) (2.10.6)\n",
            "Requirement already satisfied: sniffio in /usr/local/lib/python3.11/dist-packages (from openai>=1.33.0->swarm==0.1.0) (1.3.1)\n",
            "Requirement already satisfied: typing-extensions<5,>=4.11 in /usr/local/lib/python3.11/dist-packages (from openai>=1.33.0->swarm==0.1.0) (4.12.2)\n",
            "Requirement already satisfied: aiohttp<4.0.0,>=3.9.1 in /usr/local/lib/python3.11/dist-packages (from instructor->swarm==0.1.0) (3.11.13)\n",
            "Requirement already satisfied: docstring-parser<1.0,>=0.16 in /usr/local/lib/python3.11/dist-packages (from instructor->swarm==0.1.0) (0.16)\n",
            "Requirement already satisfied: jinja2<4.0.0,>=3.1.4 in /usr/local/lib/python3.11/dist-packages (from instructor->swarm==0.1.0) (3.1.6)\n",
            "Requirement already satisfied: pydantic-core<3.0.0,>=2.18.0 in /usr/local/lib/python3.11/dist-packages (from instructor->swarm==0.1.0) (2.27.2)\n",
            "Requirement already satisfied: rich<14.0.0,>=13.7.0 in /usr/local/lib/python3.11/dist-packages (from instructor->swarm==0.1.0) (13.9.4)\n",
            "Requirement already satisfied: tenacity<10.0.0,>=9.0.0 in /usr/local/lib/python3.11/dist-packages (from instructor->swarm==0.1.0) (9.0.0)\n",
            "Requirement already satisfied: typer<1.0.0,>=0.9.0 in /usr/local/lib/python3.11/dist-packages (from instructor->swarm==0.1.0) (0.15.2)\n",
            "Requirement already satisfied: charset-normalizer<4,>=2 in /usr/local/lib/python3.11/dist-packages (from requests->swarm==0.1.0) (3.4.1)\n",
            "Requirement already satisfied: idna<4,>=2.5 in /usr/local/lib/python3.11/dist-packages (from requests->swarm==0.1.0) (3.10)\n",
            "Requirement already satisfied: urllib3<3,>=1.21.1 in /usr/local/lib/python3.11/dist-packages (from requests->swarm==0.1.0) (2.3.0)\n",
            "Requirement already satisfied: certifi>=2017.4.17 in /usr/local/lib/python3.11/dist-packages (from requests->swarm==0.1.0) (2025.1.31)\n",
            "Requirement already satisfied: cfgv>=2.0.0 in /usr/local/lib/python3.11/dist-packages (from pre-commit->swarm==0.1.0) (3.4.0)\n",
            "Requirement already satisfied: identify>=1.0.0 in /usr/local/lib/python3.11/dist-packages (from pre-commit->swarm==0.1.0) (2.6.9)\n",
            "Requirement already satisfied: nodeenv>=0.11.1 in /usr/local/lib/python3.11/dist-packages (from pre-commit->swarm==0.1.0) (1.9.1)\n",
            "Requirement already satisfied: pyyaml>=5.1 in /usr/local/lib/python3.11/dist-packages (from pre-commit->swarm==0.1.0) (6.0.2)\n",
            "Requirement already satisfied: virtualenv>=20.10.0 in /usr/local/lib/python3.11/dist-packages (from pre-commit->swarm==0.1.0) (20.29.3)\n",
            "Requirement already satisfied: iniconfig in /usr/local/lib/python3.11/dist-packages (from pytest->swarm==0.1.0) (2.0.0)\n",
            "Requirement already satisfied: packaging in /usr/local/lib/python3.11/dist-packages (from pytest->swarm==0.1.0) (24.2)\n",
            "Requirement already satisfied: pluggy<2,>=1.5 in /usr/local/lib/python3.11/dist-packages (from pytest->swarm==0.1.0) (1.5.0)\n",
            "Requirement already satisfied: aiohappyeyeballs>=2.3.0 in /usr/local/lib/python3.11/dist-packages (from aiohttp<4.0.0,>=3.9.1->instructor->swarm==0.1.0) (2.5.0)\n",
            "Requirement already satisfied: aiosignal>=1.1.2 in /usr/local/lib/python3.11/dist-packages (from aiohttp<4.0.0,>=3.9.1->instructor->swarm==0.1.0) (1.3.2)\n",
            "Requirement already satisfied: attrs>=17.3.0 in /usr/local/lib/python3.11/dist-packages (from aiohttp<4.0.0,>=3.9.1->instructor->swarm==0.1.0) (25.1.0)\n",
            "Requirement already satisfied: frozenlist>=1.1.1 in /usr/local/lib/python3.11/dist-packages (from aiohttp<4.0.0,>=3.9.1->instructor->swarm==0.1.0) (1.5.0)\n",
            "Requirement already satisfied: multidict<7.0,>=4.5 in /usr/local/lib/python3.11/dist-packages (from aiohttp<4.0.0,>=3.9.1->instructor->swarm==0.1.0) (6.1.0)\n",
            "Requirement already satisfied: propcache>=0.2.0 in /usr/local/lib/python3.11/dist-packages (from aiohttp<4.0.0,>=3.9.1->instructor->swarm==0.1.0) (0.3.0)\n",
            "Requirement already satisfied: yarl<2.0,>=1.17.0 in /usr/local/lib/python3.11/dist-packages (from aiohttp<4.0.0,>=3.9.1->instructor->swarm==0.1.0) (1.18.3)\n",
            "Requirement already satisfied: httpcore==1.* in /usr/local/lib/python3.11/dist-packages (from httpx<1,>=0.23.0->openai>=1.33.0->swarm==0.1.0) (1.0.7)\n",
            "Requirement already satisfied: h11<0.15,>=0.13 in /usr/local/lib/python3.11/dist-packages (from httpcore==1.*->httpx<1,>=0.23.0->openai>=1.33.0->swarm==0.1.0) (0.14.0)\n",
            "Requirement already satisfied: MarkupSafe>=2.0 in /usr/local/lib/python3.11/dist-packages (from jinja2<4.0.0,>=3.1.4->instructor->swarm==0.1.0) (3.0.2)\n",
            "Requirement already satisfied: annotated-types>=0.6.0 in /usr/local/lib/python3.11/dist-packages (from pydantic<3,>=1.9.0->openai>=1.33.0->swarm==0.1.0) (0.7.0)\n",
            "Requirement already satisfied: markdown-it-py>=2.2.0 in /usr/local/lib/python3.11/dist-packages (from rich<14.0.0,>=13.7.0->instructor->swarm==0.1.0) (3.0.0)\n",
            "Requirement already satisfied: pygments<3.0.0,>=2.13.0 in /usr/local/lib/python3.11/dist-packages (from rich<14.0.0,>=13.7.0->instructor->swarm==0.1.0) (2.18.0)\n",
            "Requirement already satisfied: click>=8.0.0 in /usr/local/lib/python3.11/dist-packages (from typer<1.0.0,>=0.9.0->instructor->swarm==0.1.0) (8.1.8)\n",
            "Requirement already satisfied: shellingham>=1.3.0 in /usr/local/lib/python3.11/dist-packages (from typer<1.0.0,>=0.9.0->instructor->swarm==0.1.0) (1.5.4)\n",
            "Requirement already satisfied: distlib<1,>=0.3.7 in /usr/local/lib/python3.11/dist-packages (from virtualenv>=20.10.0->pre-commit->swarm==0.1.0) (0.3.9)\n",
            "Requirement already satisfied: filelock<4,>=3.12.2 in /usr/local/lib/python3.11/dist-packages (from virtualenv>=20.10.0->pre-commit->swarm==0.1.0) (3.17.0)\n",
            "Requirement already satisfied: platformdirs<5,>=3.9.1 in /usr/local/lib/python3.11/dist-packages (from virtualenv>=20.10.0->pre-commit->swarm==0.1.0) (4.3.6)\n",
            "Requirement already satisfied: mdurl~=0.1 in /usr/local/lib/python3.11/dist-packages (from markdown-it-py>=2.2.0->rich<14.0.0,>=13.7.0->instructor->swarm==0.1.0) (0.1.2)\n",
            "Requirement already satisfied: requests in /usr/local/lib/python3.11/dist-packages (2.32.3)\n",
            "Requirement already satisfied: charset-normalizer<4,>=2 in /usr/local/lib/python3.11/dist-packages (from requests) (3.4.1)\n",
            "Requirement already satisfied: idna<4,>=2.5 in /usr/local/lib/python3.11/dist-packages (from requests) (3.10)\n",
            "Requirement already satisfied: urllib3<3,>=1.21.1 in /usr/local/lib/python3.11/dist-packages (from requests) (2.3.0)\n",
            "Requirement already satisfied: certifi>=2017.4.17 in /usr/local/lib/python3.11/dist-packages (from requests) (2025.1.31)\n"
          ]
        }
      ]
    },
    {
      "cell_type": "code",
      "source": [
        "# Import the 'userdata' module to securely handle user data (API keys)\n",
        "from google.colab import userdata\n",
        "\n",
        "# Retrieve the OpenAI API key and News API key from user data\n",
        "openai_api_key = userdata.get('genai_course')\n",
        "news_api_key = userdata.get('news_api')"
      ],
      "metadata": {
        "id": "os-UBtRZTXM4"
      },
      "execution_count": 3,
      "outputs": []
    },
    {
      "cell_type": "code",
      "source": [
        "# Import required libraries\n",
        "import os\n",
        "from swarm import Swarm, Agent\n",
        "import requests\n",
        "from IPython.display import display, Markdown"
      ],
      "metadata": {
        "id": "Gv75uee9TXJS"
      },
      "execution_count": 4,
      "outputs": []
    },
    {
      "cell_type": "code",
      "source": [
        "# Set the API keys as environment variables\n",
        "os.environ['OPENAI_API_KEY'] = openai_api_key\n",
        "os.environ['NEWS_API_KEY'] = news_api_key"
      ],
      "metadata": {
        "id": "RsTjaTxuTXGc"
      },
      "execution_count": 5,
      "outputs": []
    },
    {
      "cell_type": "markdown",
      "source": [
        "# Agent 1 - Greeting Agent"
      ],
      "metadata": {
        "id": "Mev-tz2WT4bZ"
      }
    },
    {
      "cell_type": "code",
      "source": [
        "# Define the Greeting Agent\n",
        "greeting_agent = Agent(\n",
        "    name=\"Greeting Agent\",\n",
        "    instructions=\"You are a friendly assistant that greets the user and tells a joke.\",\n",
        ")"
      ],
      "metadata": {
        "id": "iuvy4GsdTXDi"
      },
      "execution_count": 6,
      "outputs": []
    },
    {
      "cell_type": "markdown",
      "source": [
        "# Agent 2 - News Agent"
      ],
      "metadata": {
        "id": "7CkxGwPLUCaD"
      }
    },
    {
      "cell_type": "code",
      "source": [
        "def fetch_news(country=\"us\", category=None):\n",
        "    \"\"\"\n",
        "    Fetches the top news headlines for a given country and category.\n",
        "\n",
        "    Args:\n",
        "        country (str): The country code (default is \"us\").\n",
        "        category (str): The news category (optional).\n",
        "\n",
        "    Returns:\n",
        "        str: A string containing the top news headlines or an error message.\n",
        "    \"\"\"\n",
        "    base_url = \"https://newsapi.org/v2/top-headlines\"\n",
        "    params = {\n",
        "        \"country\": country,\n",
        "        \"apiKey\": news_api_key\n",
        "    }\n",
        "\n",
        "    # Add a category if provided\n",
        "    if category:\n",
        "        params[\"category\"] = category\n",
        "\n",
        "    # Make a GET request to the News API\n",
        "    response = requests.get(base_url, params=params)\n",
        "    data = response.json()\n",
        "\n",
        "    # Check if the request was successful\n",
        "    if response.status_code == 200 and 'articles' in data:\n",
        "        # Extract the titles of the first 10 articles\n",
        "        headlines = [article['title'] for article in data['articles'][:10]]\n",
        "        return f\"Here are the top news for {country.upper()} ({category or 'all categories'}):\\n\" + \"\\n\".join(headlines)\n",
        "    else:\n",
        "        # Return an error message if the request failed\n",
        "        return f\"Sorry, I couldn't fetch the news at the moment: {data.get('message', 'Unknown error')}\""
      ],
      "metadata": {
        "id": "5bUz4hcuTXAG"
      },
      "execution_count": 7,
      "outputs": []
    },
    {
      "cell_type": "code",
      "source": [
        "# Define the News Agent\n",
        "news_agent = Agent(\n",
        "    name=\"News Agent\",\n",
        "    instructions=\"You provide the top news headlines for a given country and category.\",\n",
        "    functions=[fetch_news]\n",
        ")"
      ],
      "metadata": {
        "id": "A96kOD88TW5e"
      },
      "execution_count": 8,
      "outputs": []
    },
    {
      "cell_type": "markdown",
      "source": [
        "# Orchestrating the agents"
      ],
      "metadata": {
        "id": "eTiRq6RKaw9R"
      }
    },
    {
      "cell_type": "code",
      "source": [
        "# Define function that transfers the task to the agent\n",
        "def transfer_to_agent(agent_name):\n",
        "  agents = {\n",
        "      \"Greeting Agent\": greeting_agent,\n",
        "      \"News Agent\": news_agent\n",
        "  }\n",
        "  return agents[agent_name]"
      ],
      "metadata": {
        "id": "BY8n65BTaxV0"
      },
      "execution_count": 9,
      "outputs": []
    },
    {
      "cell_type": "code",
      "source": [
        "# Define the Main AI Agent\n",
        "main_agent = Agent(\n",
        "    name = \"Main Agent\",\n",
        "    instructions = \"\"\"\n",
        "    You are the main assistant.\n",
        "    Based on the user's request, you decide which specialized agent should handle the task.\n",
        "    - If the user wants a greeting or a joke, transfer to the Greeting Agent.\n",
        "    - If the user wants to fetch the news, transfer to the News Agent.\n",
        "    \"\"\",\n",
        "    functions = [transfer_to_agent]\n",
        ")"
      ],
      "metadata": {
        "id": "RT3AOPSFayOd"
      },
      "execution_count": 10,
      "outputs": []
    },
    {
      "cell_type": "markdown",
      "source": [
        "# Start the Connection to the OpenAI API"
      ],
      "metadata": {
        "id": "_nMS3Lc5cB_h"
      }
    },
    {
      "cell_type": "code",
      "source": [
        "# Start the connection the OpenAI API\n",
        "client = Swarm()"
      ],
      "metadata": {
        "id": "AC8TgMgZayF2"
      },
      "execution_count": 11,
      "outputs": []
    },
    {
      "cell_type": "code",
      "source": [
        "# Run the application\n",
        "response = client.run(\n",
        "    agent = main_agent,\n",
        "    messages = [{\"role\": \"user\",\n",
        "                 \"content\": \"Tell me the news in finance\"}]\n",
        ")\n",
        "print(display(Markdown(response.messages[-1]['content'])))"
      ],
      "metadata": {
        "colab": {
          "base_uri": "https://localhost:8080/",
          "height": 336
        },
        "id": "pP2l0a9-ax2m",
        "outputId": "07c1591e-4d50-4176-e006-b1a901850a62"
      },
      "execution_count": 13,
      "outputs": [
        {
          "output_type": "display_data",
          "data": {
            "text/plain": [
              "<IPython.core.display.Markdown object>"
            ],
            "text/markdown": "Here are the top finance news headlines:\n\n1. **Fed Holds Steady on Interest Rates:** The Federal Reserve announced today that it will keep interest rates unchanged, indicating a wait-and-see approach amid economic uncertainties.\n\n2. **Stock Markets Rally:** Global stock markets saw significant gains today, fueled by positive earnings reports from tech giants and optimism over economic recovery.\n\n3. **Inflation Concerns Persist:** Economists warn that inflation rates could remain elevated through the end of the year, urging consumers and businesses to prepare for potential cost increases.\n\n4. **Cryptocurrency Volatility:** Bitcoin and other cryptocurrencies experienced sharp fluctuations in trading, highlighting ongoing volatility in digital assets.\n\n5. **U.S. Job Growth Slows:** Recent data shows a slowdown in job growth in the U.S., raising concerns about the strength of the labor market recovery.\n\n6. **Oil Prices Climb:** Crude oil prices continue to rise, driven by supply constraints and increased global demand.\n\n7. **China's Economic Outlook Weakens:** New reports suggest that China's economic growth may slow down more than anticipated, impacting global trade dynamics.\n\n8. **Corporate Tax Reform Discussions:** Lawmakers are debating potential reforms to corporate tax structures, with implications for multinational companies."
          },
          "metadata": {}
        },
        {
          "output_type": "stream",
          "name": "stdout",
          "text": [
            "None\n"
          ]
        }
      ]
    }
  ]
}